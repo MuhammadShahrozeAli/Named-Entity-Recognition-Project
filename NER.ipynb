{
  "nbformat": 4,
  "nbformat_minor": 0,
  "metadata": {
    "colab": {
      "provenance": [],
      "toc_visible": true
    },
    "kernelspec": {
      "name": "python3",
      "display_name": "Python 3"
    },
    "language_info": {
      "name": "python"
    }
  },
  "cells": [
    {
      "cell_type": "code",
      "execution_count": null,
      "metadata": {
        "id": "aDvW3ZpntmGi"
      },
      "outputs": [],
      "source": [
        "S1='Apple is looking at buying U.K. startup for $1 billion!'\n",
        "S2='Hello all,We are here to help you!email support@udemy.com or visit us at http://www.udemy.com!'\n",
        "S3='10 Km cab ride almost costs $20 in NYC'\n",
        "S4=\"Let's watch a movie together.\""
      ]
    },
    {
      "cell_type": "code",
      "source": [
        "import  spacy\n",
        "NLP=spacy.load(name='en_core_web_sm')"
      ],
      "metadata": {
        "id": "3L2A9s_TuJwc"
      },
      "execution_count": null,
      "outputs": []
    },
    {
      "cell_type": "code",
      "source": [
        "doc1=NLP(S1)"
      ],
      "metadata": {
        "id": "XOk-pY6XuoeX"
      },
      "execution_count": null,
      "outputs": []
    },
    {
      "cell_type": "code",
      "source": [
        "for i in doc1.ents:\n",
        "  print(i,i.label_,str(spacy.explain(i.label_)))"
      ],
      "metadata": {
        "colab": {
          "base_uri": "https://localhost:8080/"
        },
        "id": "qLKNraeWuykm",
        "outputId": "ba46a498-67bd-4f52-eff3-2ff9795d99ae"
      },
      "execution_count": null,
      "outputs": [
        {
          "output_type": "stream",
          "name": "stdout",
          "text": [
            "Apple ORG Companies, agencies, institutions, etc.\n",
            "U.K. GPE Countries, cities, states\n",
            "$1 billion MONEY Monetary values, including unit\n"
          ]
        }
      ]
    },
    {
      "cell_type": "code",
      "source": [
        "from spacy import displacy\n",
        "displacy.render(docs=doc1,style='ent',jupyter=True)"
      ],
      "metadata": {
        "colab": {
          "base_uri": "https://localhost:8080/",
          "height": 52
        },
        "id": "BId_U29E667B",
        "outputId": "d8547ec0-25ce-43d5-d7ff-369c88eee259"
      },
      "execution_count": null,
      "outputs": [
        {
          "output_type": "display_data",
          "data": {
            "text/plain": [
              "<IPython.core.display.HTML object>"
            ],
            "text/html": [
              "<span class=\"tex2jax_ignore\"><div class=\"entities\" style=\"line-height: 2.5; direction: ltr\">\n",
              "<mark class=\"entity\" style=\"background: #7aecec; padding: 0.45em 0.6em; margin: 0 0.25em; line-height: 1; border-radius: 0.35em;\">\n",
              "    Apple\n",
              "    <span style=\"font-size: 0.8em; font-weight: bold; line-height: 1; border-radius: 0.35em; vertical-align: middle; margin-left: 0.5rem\">ORG</span>\n",
              "</mark>\n",
              " is looking at buying \n",
              "<mark class=\"entity\" style=\"background: #feca74; padding: 0.45em 0.6em; margin: 0 0.25em; line-height: 1; border-radius: 0.35em;\">\n",
              "    U.K.\n",
              "    <span style=\"font-size: 0.8em; font-weight: bold; line-height: 1; border-radius: 0.35em; vertical-align: middle; margin-left: 0.5rem\">GPE</span>\n",
              "</mark>\n",
              " startup for \n",
              "<mark class=\"entity\" style=\"background: #e4e7d2; padding: 0.45em 0.6em; margin: 0 0.25em; line-height: 1; border-radius: 0.35em;\">\n",
              "    $1 billion\n",
              "    <span style=\"font-size: 0.8em; font-weight: bold; line-height: 1; border-radius: 0.35em; vertical-align: middle; margin-left: 0.5rem\">MONEY</span>\n",
              "</mark>\n",
              "!</div></span>"
            ]
          },
          "metadata": {}
        }
      ]
    },
    {
      "cell_type": "code",
      "source": [
        "doc2=NLP(S4)\n",
        "\n",
        "for i in doc2.ents:\n",
        "  print(i,i.label_,str(spacy.explain(i.label_)))"
      ],
      "metadata": {
        "id": "KNxKOb1TwVRc"
      },
      "execution_count": null,
      "outputs": []
    },
    {
      "cell_type": "code",
      "source": [],
      "metadata": {
        "id": "dwkAcfyE64n0"
      },
      "execution_count": null,
      "outputs": []
    },
    {
      "cell_type": "code",
      "source": [
        "ORG=doc2.vocab.strings['ORG']"
      ],
      "metadata": {
        "id": "WHpVxoYCwfEk"
      },
      "execution_count": null,
      "outputs": []
    },
    {
      "cell_type": "code",
      "source": [
        "from spacy.tokens import Span\n",
        "new_ent=Span(doc2,0,1,label=ORG)"
      ],
      "metadata": {
        "id": "TKPbaJAMwnqE"
      },
      "execution_count": null,
      "outputs": []
    }
  ]
}